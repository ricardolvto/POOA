{
  "nbformat": 4,
  "nbformat_minor": 0,
  "metadata": {
    "colab": {
      "provenance": [],
      "include_colab_link": true
    },
    "kernelspec": {
      "name": "python3",
      "display_name": "Python 3"
    },
    "language_info": {
      "name": "python"
    }
  },
  "cells": [
    {
      "cell_type": "markdown",
      "metadata": {
        "id": "view-in-github",
        "colab_type": "text"
      },
      "source": [
        "<a href=\"https://colab.research.google.com/github/ricardolvto/POOA/blob/main/aula_introdutoria.ipynb\" target=\"_parent\"><img src=\"https://colab.research.google.com/assets/colab-badge.svg\" alt=\"Open In Colab\"/></a>"
      ]
    },
    {
      "cell_type": "markdown",
      "source": [
        "# Titulo\n",
        "## autores"
      ],
      "metadata": {
        "id": "zoW6BMr7AkYw"
      }
    },
    {
      "cell_type": "markdown",
      "source": [
        "resumo do assunto"
      ],
      "metadata": {
        "id": "ZNPzAQ8WBgdb"
      }
    },
    {
      "cell_type": "markdown",
      "source": [
        "## sessões"
      ],
      "metadata": {
        "id": "p-v9Gt3jBomo"
      }
    },
    {
      "cell_type": "markdown",
      "source": [
        "resumo da sessão"
      ],
      "metadata": {
        "id": "kHMzrtbbB4-x"
      }
    },
    {
      "cell_type": "markdown",
      "source": [
        "## demonstração pratica"
      ],
      "metadata": {
        "id": "_sSMX__eCiXY"
      }
    },
    {
      "cell_type": "code",
      "source": [],
      "metadata": {
        "id": "UDkqabquCg9Q"
      },
      "execution_count": null,
      "outputs": []
    },
    {
      "cell_type": "markdown",
      "source": [
        "#considerações finais"
      ],
      "metadata": {
        "id": "Fhz05amMCy8R"
      }
    },
    {
      "cell_type": "markdown",
      "source": [
        "#Referencias\n",
        "tudo que for usado de referencia para a criação da implementação deve ser registrado"
      ],
      "metadata": {
        "id": "Bmstc0qzyETS"
      }
    }
  ]
}